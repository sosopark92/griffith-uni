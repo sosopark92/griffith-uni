{
 "cells": [
  {
   "cell_type": "markdown",
   "id": "0c1160e5",
   "metadata": {},
   "source": [
    "날짜 시간 모듈 datetime 의 date 클래스"
   ]
  },
  {
   "cell_type": "code",
   "execution_count": 2,
   "id": "05d6565b",
   "metadata": {},
   "outputs": [
    {
     "name": "stdout",
     "output_type": "stream",
     "text": [
      "<class 'datetime.date'>\n",
      "2000-01-01\n",
      "2000-01-01\n",
      "2024-09-21\n",
      "2024년 9월 21일 토요일\n"
     ]
    }
   ],
   "source": [
    "from datetime import date\n",
    "\n",
    "print(date)\n",
    "print(date(2000,1,1))\n",
    "print(date(year=2000,month=1,day=1))\n",
    "print(date.today())\n",
    "\n",
    "today = date.today()\n",
    "year = str(today.year)\n",
    "month = str(today.month)\n",
    "day = str(today.day)\n",
    "weekday = \"월화수목금토일\"[today.weekday()] #weekday는 요일을 숫자로 표현\n",
    "print(year + \"년\", month + \"월\", day + \"일\", weekday + \"요일\")"
   ]
  },
  {
   "cell_type": "markdown",
   "id": "ba1e7af8",
   "metadata": {},
   "source": [
    "날짜 시간 모듈 datetime 의 time 클래스"
   ]
  },
  {
   "cell_type": "code",
   "execution_count": 4,
   "id": "2dfbfc42",
   "metadata": {},
   "outputs": [
    {
     "name": "stdout",
     "output_type": "stream",
     "text": [
      "<class 'datetime.time'>\n",
      "12:00:00\n",
      "14:30:00\n",
      "16:30:45\n",
      "18:00:15.010000\n",
      "20시 40분 15초 20000마이크로초\n"
     ]
    }
   ],
   "source": [
    "from datetime import time\n",
    "\n",
    "print(time)\n",
    "print(time(12, 0))\n",
    "print(time(14, 30))\n",
    "print(time(16, 30, 45))\n",
    "print(time(18, 00, 15, 10000))\n",
    "\n",
    "now = time(20, 40, 15, 20000)\n",
    "hour = str(now.hour)\n",
    "minute = str(now.minute)\n",
    "sec = str(now.second)\n",
    "msec = str(now.microsecond)\n",
    "\n",
    "print(hour + \"시\", minute + \"분\", sec + \"초\", msec + \"마이크로초\")"
   ]
  },
  {
   "cell_type": "markdown",
   "id": "e8c3aa09",
   "metadata": {
    "vscode": {
     "languageId": "bat"
    }
   },
   "source": [
    "날짜 시간 모듈 datetime의 datetime 클래스"
   ]
  },
  {
   "cell_type": "markdown",
   "id": "234b3585",
   "metadata": {},
   "source": [
    "날짜 시간을 문자열로 표현하기 위한 strftime() method\n",
    "- %Y 년(YYYY)\n",
    "- %y 년(yy) \n",
    "- %m 월(mm)\n",
    "- %d 일(dd)\n",
    "- %A 요일\n",
    "- %H 시(24)\n",
    "- %l 시(12)\n",
    "- %p AM, PM\n",
    "- %M 분(MM)\n",
    "- %S 초(SS)\n",
    "- %f 마이크로초  "
   ]
  },
  {
   "cell_type": "code",
   "execution_count": 18,
   "id": "8ee41212",
   "metadata": {},
   "outputs": [
    {
     "name": "stdout",
     "output_type": "stream",
     "text": [
      "<class 'datetime.datetime'>\n",
      "2024-09-21 20:55:21.757591\n",
      "Year:2024 Month:09 Date:21 Hour:20 Minute:55 Second:21\n"
     ]
    }
   ],
   "source": [
    "from datetime import datetime\n",
    "print(datetime)\n",
    "print(datetime.now())\n",
    "now = datetime.now()\n",
    "print(now.strftime(\"Year:%Y Month:%m Date:%d Hour:%H Minute:%M Second:%S\"))"
   ]
  },
  {
   "cell_type": "markdown",
   "id": "a0a6d3f6",
   "metadata": {},
   "source": [
    "math 모듈\n",
    "\n",
    "대표 상수\n",
    "- math.pi 원주율 / math.e 자연상수 / math.inf 무한대\n",
    "\n",
    "대표 함수\n",
    "- math.factorial(x) x팩토리얼\n",
    "- math.gcd(a, b) a와 b의 최대공약수\n",
    "- math.floor(x) x의 내림값\n",
    "- math.ceil(x) x의 올림값\n",
    "- math.power(x, y) x의 y승"
   ]
  },
  {
   "cell_type": "markdown",
   "id": "e4843ac3",
   "metadata": {},
   "source": []
  }
 ],
 "metadata": {
  "kernelspec": {
   "display_name": "Python 3",
   "language": "python",
   "name": "python3"
  },
  "language_info": {
   "codemirror_mode": {
    "name": "ipython",
    "version": 3
   },
   "file_extension": ".py",
   "mimetype": "text/x-python",
   "name": "python",
   "nbconvert_exporter": "python",
   "pygments_lexer": "ipython3",
   "version": "3.11.2"
  }
 },
 "nbformat": 4,
 "nbformat_minor": 5
}
